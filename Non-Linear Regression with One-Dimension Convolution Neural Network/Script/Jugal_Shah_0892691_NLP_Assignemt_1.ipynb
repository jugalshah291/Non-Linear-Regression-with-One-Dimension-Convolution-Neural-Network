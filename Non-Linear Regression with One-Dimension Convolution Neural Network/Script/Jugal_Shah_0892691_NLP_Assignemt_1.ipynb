{
  "nbformat": 4,
  "nbformat_minor": 0,
  "metadata": {
    "colab": {
      "name": "Jugal_Shah_0892691_NLP_Assignemt_1.ipynb",
      "provenance": [],
      "collapsed_sections": [],
      "toc_visible": true
    },
    "kernelspec": {
      "name": "python3",
      "display_name": "Python 3"
    },
    "accelerator": "GPU"
  },
  "cells": [
    {
      "cell_type": "markdown",
      "metadata": {
        "id": "mtEvTg64caFQ",
        "colab_type": "text"
      },
      "source": [
        "Mounting Google Drive\n",
        "\n",
        "\n"
      ]
    },
    {
      "cell_type": "code",
      "metadata": {
        "id": "jWoR0-uqYZHB",
        "colab_type": "code",
        "outputId": "a923b807-640b-44f4-e6d1-30b71e8b4dd8",
        "colab": {
          "base_uri": "https://localhost:8080/",
          "height": 55
        }
      },
      "source": [
        "from google.colab import drive\n",
        "drive.mount('/content/drive')"
      ],
      "execution_count": 1,
      "outputs": [
        {
          "output_type": "stream",
          "text": [
            "Drive already mounted at /content/drive; to attempt to forcibly remount, call drive.mount(\"/content/drive\", force_remount=True).\n"
          ],
          "name": "stdout"
        }
      ]
    },
    {
      "cell_type": "markdown",
      "metadata": {
        "id": "aTtL9LA7cqS3",
        "colab_type": "text"
      },
      "source": [
        "Imports\n",
        "\n",
        "\n",
        "1.   Panda: Data Reading\n",
        "2.   NumPy: Data Manipulation \n",
        "3.   SkLearn: Split the data into training and testing\n",
        "4.   MatPlotLib: Plotting Graph\n",
        "\n",
        "\n",
        "\n",
        "\n"
      ]
    },
    {
      "cell_type": "code",
      "metadata": {
        "id": "WGCnYVDOay2c",
        "colab_type": "code",
        "colab": {}
      },
      "source": [
        "import pandas as pd\n",
        "import numpy as np\n",
        "from sklearn.model_selection import train_test_split\n",
        "from matplotlib import pyplot as plt"
      ],
      "execution_count": 0,
      "outputs": []
    },
    {
      "cell_type": "markdown",
      "metadata": {
        "id": "k47WXKqcdiMe",
        "colab_type": "text"
      },
      "source": [
        "DataSet Read"
      ]
    },
    {
      "cell_type": "code",
      "metadata": {
        "id": "X3KDoVwTbdGy",
        "colab_type": "code",
        "outputId": "3934225b-dc5c-444f-d506-d5c597f69b3d",
        "colab": {
          "base_uri": "https://localhost:8080/",
          "height": 383
        }
      },
      "source": [
        "dataset=pd.read_csv(\"/content/drive/My Drive/NLP_Assigment_1/housing.csv\")\n",
        "dataset=dataset.dropna()\n",
        "#Print the top 10 entries\n",
        "dataset.head(10)"
      ],
      "execution_count": 3,
      "outputs": [
        {
          "output_type": "execute_result",
          "data": {
            "text/html": [
              "<div>\n",
              "<style scoped>\n",
              "    .dataframe tbody tr th:only-of-type {\n",
              "        vertical-align: middle;\n",
              "    }\n",
              "\n",
              "    .dataframe tbody tr th {\n",
              "        vertical-align: top;\n",
              "    }\n",
              "\n",
              "    .dataframe thead th {\n",
              "        text-align: right;\n",
              "    }\n",
              "</style>\n",
              "<table border=\"1\" class=\"dataframe\">\n",
              "  <thead>\n",
              "    <tr style=\"text-align: right;\">\n",
              "      <th></th>\n",
              "      <th>longitude</th>\n",
              "      <th>latitude</th>\n",
              "      <th>housing_median_age</th>\n",
              "      <th>total_rooms</th>\n",
              "      <th>total_bedrooms</th>\n",
              "      <th>population</th>\n",
              "      <th>households</th>\n",
              "      <th>median_income</th>\n",
              "      <th>median_house_value</th>\n",
              "      <th>ocean_proximity</th>\n",
              "    </tr>\n",
              "  </thead>\n",
              "  <tbody>\n",
              "    <tr>\n",
              "      <th>0</th>\n",
              "      <td>-122.23</td>\n",
              "      <td>37.88</td>\n",
              "      <td>41.0</td>\n",
              "      <td>880.0</td>\n",
              "      <td>129.0</td>\n",
              "      <td>322.0</td>\n",
              "      <td>126.0</td>\n",
              "      <td>8.3252</td>\n",
              "      <td>452600.0</td>\n",
              "      <td>NEAR BAY</td>\n",
              "    </tr>\n",
              "    <tr>\n",
              "      <th>1</th>\n",
              "      <td>-122.22</td>\n",
              "      <td>37.86</td>\n",
              "      <td>21.0</td>\n",
              "      <td>7099.0</td>\n",
              "      <td>1106.0</td>\n",
              "      <td>2401.0</td>\n",
              "      <td>1138.0</td>\n",
              "      <td>8.3014</td>\n",
              "      <td>358500.0</td>\n",
              "      <td>NEAR BAY</td>\n",
              "    </tr>\n",
              "    <tr>\n",
              "      <th>2</th>\n",
              "      <td>-122.24</td>\n",
              "      <td>37.85</td>\n",
              "      <td>52.0</td>\n",
              "      <td>1467.0</td>\n",
              "      <td>190.0</td>\n",
              "      <td>496.0</td>\n",
              "      <td>177.0</td>\n",
              "      <td>7.2574</td>\n",
              "      <td>352100.0</td>\n",
              "      <td>NEAR BAY</td>\n",
              "    </tr>\n",
              "    <tr>\n",
              "      <th>3</th>\n",
              "      <td>-122.25</td>\n",
              "      <td>37.85</td>\n",
              "      <td>52.0</td>\n",
              "      <td>1274.0</td>\n",
              "      <td>235.0</td>\n",
              "      <td>558.0</td>\n",
              "      <td>219.0</td>\n",
              "      <td>5.6431</td>\n",
              "      <td>341300.0</td>\n",
              "      <td>NEAR BAY</td>\n",
              "    </tr>\n",
              "    <tr>\n",
              "      <th>4</th>\n",
              "      <td>-122.25</td>\n",
              "      <td>37.85</td>\n",
              "      <td>52.0</td>\n",
              "      <td>1627.0</td>\n",
              "      <td>280.0</td>\n",
              "      <td>565.0</td>\n",
              "      <td>259.0</td>\n",
              "      <td>3.8462</td>\n",
              "      <td>342200.0</td>\n",
              "      <td>NEAR BAY</td>\n",
              "    </tr>\n",
              "    <tr>\n",
              "      <th>5</th>\n",
              "      <td>-122.25</td>\n",
              "      <td>37.85</td>\n",
              "      <td>52.0</td>\n",
              "      <td>919.0</td>\n",
              "      <td>213.0</td>\n",
              "      <td>413.0</td>\n",
              "      <td>193.0</td>\n",
              "      <td>4.0368</td>\n",
              "      <td>269700.0</td>\n",
              "      <td>NEAR BAY</td>\n",
              "    </tr>\n",
              "    <tr>\n",
              "      <th>6</th>\n",
              "      <td>-122.25</td>\n",
              "      <td>37.84</td>\n",
              "      <td>52.0</td>\n",
              "      <td>2535.0</td>\n",
              "      <td>489.0</td>\n",
              "      <td>1094.0</td>\n",
              "      <td>514.0</td>\n",
              "      <td>3.6591</td>\n",
              "      <td>299200.0</td>\n",
              "      <td>NEAR BAY</td>\n",
              "    </tr>\n",
              "    <tr>\n",
              "      <th>7</th>\n",
              "      <td>-122.25</td>\n",
              "      <td>37.84</td>\n",
              "      <td>52.0</td>\n",
              "      <td>3104.0</td>\n",
              "      <td>687.0</td>\n",
              "      <td>1157.0</td>\n",
              "      <td>647.0</td>\n",
              "      <td>3.1200</td>\n",
              "      <td>241400.0</td>\n",
              "      <td>NEAR BAY</td>\n",
              "    </tr>\n",
              "    <tr>\n",
              "      <th>8</th>\n",
              "      <td>-122.26</td>\n",
              "      <td>37.84</td>\n",
              "      <td>42.0</td>\n",
              "      <td>2555.0</td>\n",
              "      <td>665.0</td>\n",
              "      <td>1206.0</td>\n",
              "      <td>595.0</td>\n",
              "      <td>2.0804</td>\n",
              "      <td>226700.0</td>\n",
              "      <td>NEAR BAY</td>\n",
              "    </tr>\n",
              "    <tr>\n",
              "      <th>9</th>\n",
              "      <td>-122.25</td>\n",
              "      <td>37.84</td>\n",
              "      <td>52.0</td>\n",
              "      <td>3549.0</td>\n",
              "      <td>707.0</td>\n",
              "      <td>1551.0</td>\n",
              "      <td>714.0</td>\n",
              "      <td>3.6912</td>\n",
              "      <td>261100.0</td>\n",
              "      <td>NEAR BAY</td>\n",
              "    </tr>\n",
              "  </tbody>\n",
              "</table>\n",
              "</div>"
            ],
            "text/plain": [
              "   longitude  latitude  ...  median_house_value  ocean_proximity\n",
              "0    -122.23     37.88  ...            452600.0         NEAR BAY\n",
              "1    -122.22     37.86  ...            358500.0         NEAR BAY\n",
              "2    -122.24     37.85  ...            352100.0         NEAR BAY\n",
              "3    -122.25     37.85  ...            341300.0         NEAR BAY\n",
              "4    -122.25     37.85  ...            342200.0         NEAR BAY\n",
              "5    -122.25     37.85  ...            269700.0         NEAR BAY\n",
              "6    -122.25     37.84  ...            299200.0         NEAR BAY\n",
              "7    -122.25     37.84  ...            241400.0         NEAR BAY\n",
              "8    -122.26     37.84  ...            226700.0         NEAR BAY\n",
              "9    -122.25     37.84  ...            261100.0         NEAR BAY\n",
              "\n",
              "[10 rows x 10 columns]"
            ]
          },
          "metadata": {
            "tags": []
          },
          "execution_count": 3
        }
      ]
    },
    {
      "cell_type": "code",
      "metadata": {
        "id": "6HymAgCSd95E",
        "colab_type": "code",
        "outputId": "ad0c3196-4806-4ef1-ae9a-1b769758ae7b",
        "colab": {
          "base_uri": "https://localhost:8080/",
          "height": 35
        }
      },
      "source": [
        "dataset.shape"
      ],
      "execution_count": 4,
      "outputs": [
        {
          "output_type": "execute_result",
          "data": {
            "text/plain": [
              "(20433, 10)"
            ]
          },
          "metadata": {
            "tags": []
          },
          "execution_count": 4
        }
      ]
    },
    {
      "cell_type": "markdown",
      "metadata": {
        "id": "efWTV90SdpQ1",
        "colab_type": "text"
      },
      "source": [
        "Plot a sample of the dataset using subplots and save the figure"
      ]
    },
    {
      "cell_type": "code",
      "metadata": {
        "id": "fcH78w_XcCKz",
        "colab_type": "code",
        "outputId": "93f4e5f6-4406-4918-81ac-86c61dd4f6e3",
        "colab": {
          "base_uri": "https://localhost:8080/",
          "height": 260
        }
      },
      "source": [
        "plt.style.use(\"ggplot\")\n",
        "dataset.head(18).plot(subplots=True)\n",
        "plt.savefig('/content/drive/My Drive/NLP_Assigment_1/Subplot.png', format='png', dpi=1200)"
      ],
      "execution_count": 5,
      "outputs": [
        {
          "output_type": "display_data",
          "data": {
            "image/png": "[encoded data removed]",
            "text/plain": [
              "<Figure size 432x288 with 9 Axes>"
            ]
          },
          "metadata": {
            "tags": []
          }
        }
      ]
    },
    {
      "cell_type": "code",
      "metadata": {
        "id": "l3z8Yn27XwlQ",
        "colab_type": "code",
        "colab": {}
      },
      "source": [
        "#Variable to be predicted median_house_value\n",
        "Y=dataset['median_house_value']\n",
        "#Remaining of the columns form longitude to median_income\n",
        "X=dataset.loc[:,'longitude':'median_income']"
      ],
      "execution_count": 0,
      "outputs": []
    },
    {
      "cell_type": "markdown",
      "metadata": {
        "id": "Js7DJ6pmeDx4",
        "colab_type": "text"
      },
      "source": [
        "Split the dataset and convert to NumPy"
      ]
    },
    {
      "cell_type": "code",
      "metadata": {
        "id": "tIDAgGt9ZNXh",
        "colab_type": "code",
        "colab": {}
      },
      "source": [
        "#Split the dataset in 70:30 ratio and set the random state to 2003\n",
        "x_train, x_test, y_train, y_test = train_test_split(X,Y,test_size=0.3,random_state=2003)\n",
        "\n",
        "#Convert the data to NumPy\n",
        "x_train_np=x_train.to_numpy()\n",
        "x_test_np=x_test.to_numpy()\n",
        "y_train_np=y_train.to_numpy()\n",
        "y_test_np=y_test.to_numpy()"
      ],
      "execution_count": 0,
      "outputs": []
    },
    {
      "cell_type": "markdown",
      "metadata": {
        "id": "c-A5LyzXeSVr",
        "colab_type": "text"
      },
      "source": [
        "Import the PyTorch libraries\n"
      ]
    },
    {
      "cell_type": "code",
      "metadata": {
        "id": "cGMp5F9Las80",
        "colab_type": "code",
        "colab": {}
      },
      "source": [
        "import torch\n",
        "from torch.nn import Conv1d\n",
        "from torch.nn import BatchNorm1d\n",
        "from torch.nn import Dropout\n",
        "from torch.nn import MaxPool1d\n",
        "from torch.nn import Flatten\n",
        "from torch.nn import Linear\n",
        "from torch.nn.functional import relu\n",
        "from torch.nn.functional import leaky_relu\n",
        "from torch.nn.functional import softmax\n",
        "from torch.utils.data import DataLoader, TensorDataset\n",
        "from sklearn.metrics import accuracy_score"
      ],
      "execution_count": 0,
      "outputs": []
    },
    {
      "cell_type": "markdown",
      "metadata": {
        "id": "vRBU0ywuiVBr",
        "colab_type": "text"
      },
      "source": [
        "Model Defination"
      ]
    },
    {
      "cell_type": "code",
      "metadata": {
        "id": "R70GyX7ybLx_",
        "colab_type": "code",
        "colab": {}
      },
      "source": [
        "#CnnRegressor Inherit the torch.nn.Module\n",
        "class CnnRegressor(torch.nn.Module):\n",
        "  def __init__(self,batch_size,inputs,outputs):\n",
        "    #Initialization\n",
        "    super(CnnRegressor,self).__init__()\n",
        "    self.batch_size=batch_size\n",
        "    self.inputs=inputs\n",
        "    self.outputs=outputs\n",
        "    \n",
        "    #Batch Normalization\n",
        "    self.batch_normaliztion_1=BatchNorm1d(inputs)\n",
        "    #Convolution Layer(input channels,output channels,kernel size)\n",
        "    self.input_layer=Conv1d(inputs,batch_size,1)\n",
        "    #MaxPooling Layer\n",
        "    self.max_pooling_layer_1=MaxPool1d(1)\n",
        "    #Convolution Layer(input channels,output channels,kernel size)\n",
        "    self.conv_layer=Conv1d(batch_size,128,1)\n",
        "    #MaxPooling Layer(kernel size)\n",
        "    self.max_pooling_layer_2=MaxPool1d(1)\n",
        "\n",
        "    #Flatten Layer\n",
        "    self.flatten_layer=Flatten()\n",
        "    #Linear Layer(input channels,output channels)\n",
        "    self.linear_layer=Linear(128,64)\n",
        "    #Output Layer(input channels,output channels)\n",
        "    self.output_layer=Linear(64,outputs)\n",
        "\n",
        "  #Function to feed input through the model\n",
        "  def feed(self,input):\n",
        "    \n",
        "    #Reshaping the input is required as Conv1d Layer expectes a 3D input\n",
        "    input=input.reshape((self.batch_size,self.inputs,1))\n",
        "    #Batch Normalization\n",
        "    output=self.batch_normaliztion_1(input)\n",
        "\n",
        "    #Convolution Layer -> LeakyReLU function-> MaxPooling Layer\n",
        "    output=leaky_relu(self.input_layer(output))\n",
        "    output=self.max_pooling_layer_1(output)\n",
        "\n",
        "    #Convolution Layer -> LeakyReLU function-> MaxPooling Layer\n",
        "    output=leaky_relu(self.conv_layer(output))\n",
        "    output=self.max_pooling_layer_2(output)\n",
        "\n",
        "    #Flatten->Linear Layer -> Linear Layer\n",
        "    output=self.flatten_layer(output)\n",
        "    output=self.linear_layer(output)\n",
        "    output=self.output_layer(output)\n",
        "    return output\n",
        "\n"
      ],
      "execution_count": 0,
      "outputs": []
    },
    {
      "cell_type": "markdown",
      "metadata": {
        "id": "ywImThHxiZzw",
        "colab_type": "text"
      },
      "source": [
        "Optimizers and Performance Measure Imports"
      ]
    },
    {
      "cell_type": "code",
      "metadata": {
        "id": "1o5-gGITdxom",
        "colab_type": "code",
        "outputId": "5ca8bced-93d3-4886-d387-d9385be8319f",
        "colab": {
          "base_uri": "https://localhost:8080/",
          "height": 148
        }
      },
      "source": [
        "from torch.optim import SGD\n",
        "from torch.optim import Adam\n",
        "from torch.nn import L1Loss\n",
        "from torch.nn import MSELoss\n",
        "!pip install pytorch-ignite\n",
        "from ignite.contrib.metrics.regression.r2_score import R2Score"
      ],
      "execution_count": 10,
      "outputs": [
        {
          "output_type": "stream",
          "text": [
            "Collecting pytorch-ignite\n",
            "\u001b[?25l  Downloading https://files.pythonhosted.org/packages/35/55/41e8a995876fd2ade29bdba0c3efefa38e7d605cb353c70f3173c04928b5/pytorch_ignite-0.3.0-py2.py3-none-any.whl (103kB)\n",
            "\r\u001b[K     |███▏                            | 10kB 15.2MB/s eta 0:00:01\r\u001b[K     |██████▎                         | 20kB 2.4MB/s eta 0:00:01\r\u001b[K     |█████████▌                      | 30kB 3.5MB/s eta 0:00:01\r\u001b[K     |████████████▋                   | 40kB 2.2MB/s eta 0:00:01\r\u001b[K     |███████████████▉                | 51kB 2.7MB/s eta 0:00:01\r\u001b[K     |███████████████████             | 61kB 3.2MB/s eta 0:00:01\r\u001b[K     |██████████████████████▏         | 71kB 3.7MB/s eta 0:00:01\r\u001b[K     |█████████████████████████▎      | 81kB 4.2MB/s eta 0:00:01\r\u001b[K     |████████████████████████████▍   | 92kB 4.6MB/s eta 0:00:01\r\u001b[K     |███████████████████████████████▋| 102kB 3.6MB/s eta 0:00:01\r\u001b[K     |████████████████████████████████| 112kB 3.6MB/s \n",
            "\u001b[?25hRequirement already satisfied: torch in /usr/local/lib/python3.6/dist-packages (from pytorch-ignite) (1.4.0)\n",
            "Installing collected packages: pytorch-ignite\n",
            "Successfully installed pytorch-ignite-0.3.0\n"
          ],
          "name": "stdout"
        }
      ]
    },
    {
      "cell_type": "markdown",
      "metadata": {
        "id": "rLkNZcMfi51r",
        "colab_type": "text"
      },
      "source": [
        "Model Initialization"
      ]
    },
    {
      "cell_type": "code",
      "metadata": {
        "id": "B_rIn07beLOG",
        "colab_type": "code",
        "outputId": "383c0089-120b-4620-f715-d7a4bc6050a7",
        "colab": {
          "base_uri": "https://localhost:8080/",
          "height": 202
        }
      },
      "source": [
        "batch_size=64\n",
        "#CnnRegressor(batchsize,inputsize,outputseize)\n",
        "model=CnnRegressor(batch_size,X.shape[1],1)\n",
        "#Enable GPU for model\n",
        "model.cuda()"
      ],
      "execution_count": 11,
      "outputs": [
        {
          "output_type": "execute_result",
          "data": {
            "text/plain": [
              "CnnRegressor(\n",
              "  (batch_normaliztion_1): BatchNorm1d(8, eps=1e-05, momentum=0.1, affine=True, track_running_stats=True)\n",
              "  (input_layer): Conv1d(8, 64, kernel_size=(1,), stride=(1,))\n",
              "  (max_pooling_layer_1): MaxPool1d(kernel_size=1, stride=1, padding=0, dilation=1, ceil_mode=False)\n",
              "  (conv_layer): Conv1d(64, 128, kernel_size=(1,), stride=(1,))\n",
              "  (max_pooling_layer_2): MaxPool1d(kernel_size=1, stride=1, padding=0, dilation=1, ceil_mode=False)\n",
              "  (flatten_layer): Flatten()\n",
              "  (linear_layer): Linear(in_features=128, out_features=64, bias=True)\n",
              "  (output_layer): Linear(in_features=64, out_features=1, bias=True)\n",
              ")"
            ]
          },
          "metadata": {
            "tags": []
          },
          "execution_count": 11
        }
      ]
    },
    {
      "cell_type": "code",
      "metadata": {
        "id": "qrZLk42bIhIw",
        "colab_type": "code",
        "outputId": "489ebf3a-836c-47e8-c98f-21a12705ef8e",
        "colab": {
          "base_uri": "https://localhost:8080/",
          "height": 202
        }
      },
      "source": [
        "model.eval"
      ],
      "execution_count": 12,
      "outputs": [
        {
          "output_type": "execute_result",
          "data": {
            "text/plain": [
              "<bound method Module.eval of CnnRegressor(\n",
              "  (batch_normaliztion_1): BatchNorm1d(8, eps=1e-05, momentum=0.1, affine=True, track_running_stats=True)\n",
              "  (input_layer): Conv1d(8, 64, kernel_size=(1,), stride=(1,))\n",
              "  (max_pooling_layer_1): MaxPool1d(kernel_size=1, stride=1, padding=0, dilation=1, ceil_mode=False)\n",
              "  (conv_layer): Conv1d(64, 128, kernel_size=(1,), stride=(1,))\n",
              "  (max_pooling_layer_2): MaxPool1d(kernel_size=1, stride=1, padding=0, dilation=1, ceil_mode=False)\n",
              "  (flatten_layer): Flatten()\n",
              "  (linear_layer): Linear(in_features=128, out_features=64, bias=True)\n",
              "  (output_layer): Linear(in_features=64, out_features=1, bias=True)\n",
              ")>"
            ]
          },
          "metadata": {
            "tags": []
          },
          "execution_count": 12
        }
      ]
    },
    {
      "cell_type": "markdown",
      "metadata": {
        "id": "Yw7z3uBNi9eb",
        "colab_type": "text"
      },
      "source": [
        "Function to run batches of data through the model"
      ]
    },
    {
      "cell_type": "code",
      "metadata": {
        "id": "w3iURUovexEw",
        "colab_type": "code",
        "colab": {}
      },
      "source": [
        "def model_loss(model,dataset,train=False,optimizer=None):\n",
        "\n",
        "  performance=L1Loss()\n",
        "  meansquareperf=MSELoss()\n",
        "  score_metric= R2Score()\n",
        "  avg_loss=0\n",
        "  avg_meansquareloss=0\n",
        "  avg_score=0\n",
        "  count=0\n",
        "\n",
        "  for input,output in iter(dataset):\n",
        "    #Get the model prediction for the training dataset\n",
        "    predictions=model.feed(input)\n",
        "    #Get model Loss\n",
        "    loss=performance(predictions,output)\n",
        "    meansquareloss=meansquareperf(predictions,output)\n",
        "    #Get Model R^2Score\n",
        "    score_metric.update([predictions,output])\n",
        "    score = score_metric.compute()\n",
        "    if(train):\n",
        "      #Clear the errors to they do not cummulate\n",
        "      optimizer.zero_grad()\n",
        "      #Compute the gradient for the optimizer\n",
        "      loss.backward()\n",
        "      #Update the model parameters based on the gradient using the optimizer\n",
        "      optimizer.step()\n",
        "    \n",
        "    #Store the Loss and R2Score and update the counter\n",
        "    avg_loss+=loss.item()\n",
        "    avg_meansquareloss+=meansquareloss.item()\n",
        "    avg_score+=score\n",
        "    count+=1\n",
        "\n",
        "  return avg_loss/count, avg_score/count ,avg_meansquareloss/count"
      ],
      "execution_count": 0,
      "outputs": []
    },
    {
      "cell_type": "markdown",
      "metadata": {
        "id": "irM325z7jR7l",
        "colab_type": "text"
      },
      "source": [
        "Train the Model"
      ]
    },
    {
      "cell_type": "code",
      "metadata": {
        "id": "9mo6XwISgRPv",
        "colab_type": "code",
        "outputId": "1047ec5b-ab8b-4241-b371-adec74fc88c6",
        "colab": {
          "base_uri": "https://localhost:8080/",
          "height": 1000
        }
      },
      "source": [
        "epochs=100\n",
        "#Define the performance measure and optimizer\n",
        "optimizer=Adam(model.parameters(),lr=1e-2)\n",
        "\n",
        "#Convert the tarining set to torch variable for out model using the GPU as floats. The reshape is to remove a warning\n",
        "inputs=torch.from_numpy(x_train_np).cuda().float()\n",
        "outputs=torch.from_numpy(y_train_np.reshape(y_train_np.shape[0],1)).cuda().float()\n",
        "\n",
        "#Create DataLoader Instance to work with our batches\n",
        "tensor= TensorDataset(inputs,outputs)\n",
        "loader=DataLoader(tensor,batch_size,shuffle=True,drop_last=True)\n",
        "#Define Arrays to store the loss, r2score and epoch\n",
        "lossData=[]\n",
        "R2ScoreData=[]\n",
        "epochData=[]\n",
        "\n",
        "#Start the training loop\n",
        "for epoch in range(epochs):\n",
        "  #Cycle through the batches and get the avgerage loss and r2score\n",
        "  avg_loss,avg_r2_score,avg_meansquareloss =model_loss(model,loader,train=True,optimizer=optimizer)\n",
        "  #Ouput\n",
        "  print(\"Epoch \" +str(epoch + 1)+ \":\\n\\tMSE= \" +str(avg_meansquareloss)+ \":\\n\\tLoss= \" +str(avg_loss)+ \"\\n\\tR^2 Score= \" +str(avg_r2_score))\n",
        "  #Append the value for each epoch\n",
        "  epochData.append(epoch+1)\n",
        "  lossData.append(avg_loss)\n",
        "  R2ScoreData.append(avg_r2_score)\n"
      ],
      "execution_count": 14,
      "outputs": [
        {
          "output_type": "stream",
          "text": [
            "Epoch 1:\n",
            "\tMSE= 17516897757.56054:\n",
            "\tLoss= 93548.12188200673\n",
            "\tR^2 Score= -1.4489732730081852\n",
            "Epoch 2:\n",
            "\tMSE= 5001361959.03139:\n",
            "\tLoss= 49819.224460482066\n",
            "\tR^2 Score= 0.6194514736900252\n",
            "Epoch 3:\n",
            "\tMSE= 4934357844.376681:\n",
            "\tLoss= 49031.953256376124\n",
            "\tR^2 Score= 0.6240894427980118\n",
            "Epoch 4:\n",
            "\tMSE= 4895686327.67713:\n",
            "\tLoss= 48957.55015940303\n",
            "\tR^2 Score= 0.6387803319489038\n",
            "Epoch 5:\n",
            "\tMSE= 4805294531.730942:\n",
            "\tLoss= 48244.57789728139\n",
            "\tR^2 Score= 0.6160701246973607\n",
            "Epoch 6:\n",
            "\tMSE= 4757635086.923767:\n",
            "\tLoss= 47915.0543634389\n",
            "\tR^2 Score= 0.6281302686625991\n",
            "Epoch 7:\n",
            "\tMSE= 4666613657.8295965:\n",
            "\tLoss= 47520.68802550448\n",
            "\tR^2 Score= 0.6426509362141798\n",
            "Epoch 8:\n",
            "\tMSE= 4698744322.869955:\n",
            "\tLoss= 47719.05021195347\n",
            "\tR^2 Score= 0.6565666895770604\n",
            "Epoch 9:\n",
            "\tMSE= 4473414099.8026905:\n",
            "\tLoss= 46442.77100266256\n",
            "\tR^2 Score= 0.667499289148942\n",
            "Epoch 10:\n",
            "\tMSE= 4546212388.161435:\n",
            "\tLoss= 46939.18947940022\n",
            "\tR^2 Score= 0.6608544845099688\n",
            "Epoch 11:\n",
            "\tMSE= 4397431539.372197:\n",
            "\tLoss= 46189.907949131164\n",
            "\tR^2 Score= 0.6630897919280914\n",
            "Epoch 12:\n",
            "\tMSE= 4471463773.560538:\n",
            "\tLoss= 46522.67451128083\n",
            "\tR^2 Score= 0.6697963484290888\n",
            "Epoch 13:\n",
            "\tMSE= 4439057611.766816:\n",
            "\tLoss= 46294.635729049885\n",
            "\tR^2 Score= 0.6619531033616742\n",
            "Epoch 14:\n",
            "\tMSE= 4361322235.4080715:\n",
            "\tLoss= 45804.60230696468\n",
            "\tR^2 Score= 0.6620096903956756\n",
            "Epoch 15:\n",
            "\tMSE= 4326035165.560538:\n",
            "\tLoss= 45690.16280128924\n",
            "\tR^2 Score= 0.6768283838426132\n",
            "Epoch 16:\n",
            "\tMSE= 4271279552.8609867:\n",
            "\tLoss= 45350.03324691704\n",
            "\tR^2 Score= 0.6695388164856569\n",
            "Epoch 17:\n",
            "\tMSE= 4272684307.515695:\n",
            "\tLoss= 45300.06062570067\n",
            "\tR^2 Score= 0.6839657781766388\n",
            "Epoch 18:\n",
            "\tMSE= 4308726538.331839:\n",
            "\tLoss= 45492.38354820628\n",
            "\tR^2 Score= 0.6750332412170187\n",
            "Epoch 19:\n",
            "\tMSE= 4264833738.044843:\n",
            "\tLoss= 45239.025898612665\n",
            "\tR^2 Score= 0.6693260654609658\n",
            "Epoch 20:\n",
            "\tMSE= 4231828343.3901343:\n",
            "\tLoss= 45102.41323920964\n",
            "\tR^2 Score= 0.679359785585845\n",
            "Epoch 21:\n",
            "\tMSE= 4156683265.721973:\n",
            "\tLoss= 44551.623292110424\n",
            "\tR^2 Score= 0.6800647313380183\n",
            "Epoch 22:\n",
            "\tMSE= 4156553461.6681614:\n",
            "\tLoss= 44772.74394794002\n",
            "\tR^2 Score= 0.6891795579606315\n",
            "Epoch 23:\n",
            "\tMSE= 4224746005.237668:\n",
            "\tLoss= 44932.99604119955\n",
            "\tR^2 Score= 0.6938260523584958\n",
            "Epoch 24:\n",
            "\tMSE= 4127270272.0:\n",
            "\tLoss= 44366.52250035034\n",
            "\tR^2 Score= 0.6914487851532416\n",
            "Epoch 25:\n",
            "\tMSE= 4081497159.748879:\n",
            "\tLoss= 44193.68828825673\n",
            "\tR^2 Score= 0.6978304566192278\n",
            "Epoch 26:\n",
            "\tMSE= 4095577318.1704035:\n",
            "\tLoss= 44257.832425378365\n",
            "\tR^2 Score= 0.6864060160960213\n",
            "Epoch 27:\n",
            "\tMSE= 4186902832.7892375:\n",
            "\tLoss= 44629.85217558857\n",
            "\tR^2 Score= 0.678800339174943\n",
            "Epoch 28:\n",
            "\tMSE= 4068464363.336323:\n",
            "\tLoss= 43996.3564496917\n",
            "\tR^2 Score= 0.7010036040079669\n",
            "Epoch 29:\n",
            "\tMSE= 4136498800.502242:\n",
            "\tLoss= 44383.47028272141\n",
            "\tR^2 Score= 0.690015219050406\n",
            "Epoch 30:\n",
            "\tMSE= 4057815777.004484:\n",
            "\tLoss= 43899.092453755606\n",
            "\tR^2 Score= 0.7050820439196492\n",
            "Epoch 31:\n",
            "\tMSE= 4080212101.73991:\n",
            "\tLoss= 43968.450777746635\n",
            "\tR^2 Score= 0.6968996463107503\n",
            "Epoch 32:\n",
            "\tMSE= 4043125913.255605:\n",
            "\tLoss= 43927.76500315303\n",
            "\tR^2 Score= 0.6938144180431938\n",
            "Epoch 33:\n",
            "\tMSE= 4002896753.650224:\n",
            "\tLoss= 43699.63105205998\n",
            "\tR^2 Score= 0.7023958215224779\n",
            "Epoch 34:\n",
            "\tMSE= 4018995133.4170403:\n",
            "\tLoss= 44135.66108464126\n",
            "\tR^2 Score= 0.7076260542652686\n",
            "Epoch 35:\n",
            "\tMSE= 3947474584.107623:\n",
            "\tLoss= 43276.075821538674\n",
            "\tR^2 Score= 0.7081324551010822\n",
            "Epoch 36:\n",
            "\tMSE= 4020536891.6950674:\n",
            "\tLoss= 43459.47517867153\n",
            "\tR^2 Score= 0.7010320426754777\n",
            "Epoch 37:\n",
            "\tMSE= 3945045733.0224214:\n",
            "\tLoss= 43238.47723689742\n",
            "\tR^2 Score= 0.7080602866351371\n",
            "Epoch 38:\n",
            "\tMSE= 4031803838.5650225:\n",
            "\tLoss= 44021.66846797926\n",
            "\tR^2 Score= 0.7012746955927489\n",
            "Epoch 39:\n",
            "\tMSE= 3937238583.103139:\n",
            "\tLoss= 43187.94809767377\n",
            "\tR^2 Score= 0.7060019994222659\n",
            "Epoch 40:\n",
            "\tMSE= 4080412961.2914796:\n",
            "\tLoss= 43790.19126611547\n",
            "\tR^2 Score= 0.691650477246426\n",
            "Epoch 41:\n",
            "\tMSE= 3875832027.264574:\n",
            "\tLoss= 42866.424458730384\n",
            "\tR^2 Score= 0.7151852909034018\n",
            "Epoch 42:\n",
            "\tMSE= 3859373410.7264576:\n",
            "\tLoss= 42753.58624404428\n",
            "\tR^2 Score= 0.7133772792533828\n",
            "Epoch 43:\n",
            "\tMSE= 3848058226.7982063:\n",
            "\tLoss= 42585.965001401346\n",
            "\tR^2 Score= 0.7016553423259014\n",
            "Epoch 44:\n",
            "\tMSE= 4036186921.9013453:\n",
            "\tLoss= 43743.86945592769\n",
            "\tR^2 Score= 0.6957555286516722\n",
            "Epoch 45:\n",
            "\tMSE= 3911365758.278027:\n",
            "\tLoss= 42874.41682139854\n",
            "\tR^2 Score= 0.694056617006707\n",
            "Epoch 46:\n",
            "\tMSE= 3864629589.5246634:\n",
            "\tLoss= 42491.71857483184\n",
            "\tR^2 Score= 0.7172499660862197\n",
            "Epoch 47:\n",
            "\tMSE= 3860869260.0538116:\n",
            "\tLoss= 42763.3079456278\n",
            "\tR^2 Score= 0.7129236985581695\n",
            "Epoch 48:\n",
            "\tMSE= 3843563170.4394617:\n",
            "\tLoss= 42363.744079316144\n",
            "\tR^2 Score= 0.6977843217904126\n",
            "Epoch 49:\n",
            "\tMSE= 3873737725.7040358:\n",
            "\tLoss= 42474.65550553532\n",
            "\tR^2 Score= 0.7145669772406538\n",
            "Epoch 50:\n",
            "\tMSE= 3747819206.600897:\n",
            "\tLoss= 41759.78666269619\n",
            "\tR^2 Score= 0.7172522369252777\n",
            "Epoch 51:\n",
            "\tMSE= 3873451011.4439464:\n",
            "\tLoss= 42584.157738929374\n",
            "\tR^2 Score= 0.7098207380118535\n",
            "Epoch 52:\n",
            "\tMSE= 3860226814.852018:\n",
            "\tLoss= 42706.08472008128\n",
            "\tR^2 Score= 0.7137860242124852\n",
            "Epoch 53:\n",
            "\tMSE= 3853193485.775785:\n",
            "\tLoss= 42316.69634599215\n",
            "\tR^2 Score= 0.7116160512743778\n",
            "Epoch 54:\n",
            "\tMSE= 3781376714.618834:\n",
            "\tLoss= 41890.97572169283\n",
            "\tR^2 Score= 0.7196114942561168\n",
            "Epoch 55:\n",
            "\tMSE= 3792561548.9147983:\n",
            "\tLoss= 42058.63058786435\n",
            "\tR^2 Score= 0.7106408093789796\n",
            "Epoch 56:\n",
            "\tMSE= 3709814647.3901343:\n",
            "\tLoss= 41500.758154077914\n",
            "\tR^2 Score= 0.7218491760549827\n",
            "Epoch 57:\n",
            "\tMSE= 3787065281.4349775:\n",
            "\tLoss= 42234.98308751401\n",
            "\tR^2 Score= 0.7138158756429942\n",
            "Epoch 58:\n",
            "\tMSE= 3760219503.35426:\n",
            "\tLoss= 41498.10064286715\n",
            "\tR^2 Score= 0.726334955896739\n",
            "Epoch 59:\n",
            "\tMSE= 3763889705.9013453:\n",
            "\tLoss= 41615.00206698431\n",
            "\tR^2 Score= 0.7036616906498189\n",
            "Epoch 60:\n",
            "\tMSE= 3766845252.3049326:\n",
            "\tLoss= 41745.1729610426\n",
            "\tR^2 Score= 0.7193298810542798\n",
            "Epoch 61:\n",
            "\tMSE= 3683172234.9058294:\n",
            "\tLoss= 41200.89916444787\n",
            "\tR^2 Score= 0.7228659418456502\n",
            "Epoch 62:\n",
            "\tMSE= 3758719838.7085204:\n",
            "\tLoss= 41626.09010650224\n",
            "\tR^2 Score= 0.7212173423571923\n",
            "Epoch 63:\n",
            "\tMSE= 3707080042.762332:\n",
            "\tLoss= 41306.62713705157\n",
            "\tR^2 Score= 0.7241465871685793\n",
            "Epoch 64:\n",
            "\tMSE= 3704016075.1928253:\n",
            "\tLoss= 41631.512708450115\n",
            "\tR^2 Score= 0.7219530259769474\n",
            "Epoch 65:\n",
            "\tMSE= 3772910323.9461884:\n",
            "\tLoss= 41579.08707609305\n",
            "\tR^2 Score= 0.7142248808599154\n",
            "Epoch 66:\n",
            "\tMSE= 3777317502.278027:\n",
            "\tLoss= 41848.06009143778\n",
            "\tR^2 Score= 0.7280514015158985\n",
            "Epoch 67:\n",
            "\tMSE= 3759979904.573991:\n",
            "\tLoss= 41639.4994569787\n",
            "\tR^2 Score= 0.7137796980342789\n",
            "Epoch 68:\n",
            "\tMSE= 3702474904.6816144:\n",
            "\tLoss= 41032.80228769619\n",
            "\tR^2 Score= 0.7190119065370485\n",
            "Epoch 69:\n",
            "\tMSE= 3696608394.3318386:\n",
            "\tLoss= 41132.78497232343\n",
            "\tR^2 Score= 0.715508560419213\n",
            "Epoch 70:\n",
            "\tMSE= 3757680840.896861:\n",
            "\tLoss= 41536.86854505325\n",
            "\tR^2 Score= 0.7215854445720367\n",
            "Epoch 71:\n",
            "\tMSE= 3759254289.793722:\n",
            "\tLoss= 41635.39202634529\n",
            "\tR^2 Score= 0.7187358389902829\n",
            "Epoch 72:\n",
            "\tMSE= 3716813609.9013453:\n",
            "\tLoss= 41189.74346622758\n",
            "\tR^2 Score= 0.7320915452002376\n",
            "Epoch 73:\n",
            "\tMSE= 3738688701.991031:\n",
            "\tLoss= 41531.46816318666\n",
            "\tR^2 Score= 0.7205543060242146\n",
            "Epoch 74:\n",
            "\tMSE= 3558229821.991031:\n",
            "\tLoss= 40177.1574411435\n",
            "\tR^2 Score= 0.7321860015568448\n",
            "Epoch 75:\n",
            "\tMSE= 3651999772.1255608:\n",
            "\tLoss= 40608.996155058856\n",
            "\tR^2 Score= 0.7219101517963278\n",
            "Epoch 76:\n",
            "\tMSE= 3663912017.5067263:\n",
            "\tLoss= 40915.04119955157\n",
            "\tR^2 Score= 0.7213049584126462\n",
            "Epoch 77:\n",
            "\tMSE= 3643560776.896861:\n",
            "\tLoss= 40679.64863018498\n",
            "\tR^2 Score= 0.719421083745883\n",
            "Epoch 78:\n",
            "\tMSE= 3612300019.9461884:\n",
            "\tLoss= 40682.37501751682\n",
            "\tR^2 Score= 0.7175459039632055\n",
            "Epoch 79:\n",
            "\tMSE= 3678051286.0986547:\n",
            "\tLoss= 41153.41450917881\n",
            "\tR^2 Score= 0.7188704544068986\n",
            "Epoch 80:\n",
            "\tMSE= 3757793684.089686:\n",
            "\tLoss= 41393.70228419283\n",
            "\tR^2 Score= 0.7264623018739478\n",
            "Epoch 81:\n",
            "\tMSE= 3695061270.9596415:\n",
            "\tLoss= 40995.008250420404\n",
            "\tR^2 Score= 0.7198735722776171\n",
            "Epoch 82:\n",
            "\tMSE= 3712817743.2107625:\n",
            "\tLoss= 41218.6158824972\n",
            "\tR^2 Score= 0.7148227358745585\n",
            "Epoch 83:\n",
            "\tMSE= 3827827725.775785:\n",
            "\tLoss= 41976.75979190022\n",
            "\tR^2 Score= 0.7073021914647042\n",
            "Epoch 84:\n",
            "\tMSE= 3674621493.955157:\n",
            "\tLoss= 40915.42220781951\n",
            "\tR^2 Score= 0.722420302475734\n",
            "Epoch 85:\n",
            "\tMSE= 3726935930.26009:\n",
            "\tLoss= 41217.83836357904\n",
            "\tR^2 Score= 0.7227157640282001\n",
            "Epoch 86:\n",
            "\tMSE= 3743850166.529148:\n",
            "\tLoss= 41332.03829176009\n",
            "\tR^2 Score= 0.7219451167282055\n",
            "Epoch 87:\n",
            "\tMSE= 3641489396.5201793:\n",
            "\tLoss= 40740.533693595855\n",
            "\tR^2 Score= 0.7266452506508354\n",
            "Epoch 88:\n",
            "\tMSE= 3714720019.515695:\n",
            "\tLoss= 41133.183295964125\n",
            "\tR^2 Score= 0.721111839762953\n",
            "Epoch 89:\n",
            "\tMSE= 3741314630.600897:\n",
            "\tLoss= 41458.10513593049\n",
            "\tR^2 Score= 0.7240366491527974\n",
            "Epoch 90:\n",
            "\tMSE= 3666658461.2735424:\n",
            "\tLoss= 41007.93671174327\n",
            "\tR^2 Score= 0.7189215758685821\n",
            "Epoch 91:\n",
            "\tMSE= 3634633176.96861:\n",
            "\tLoss= 40596.851133338\n",
            "\tR^2 Score= 0.7401492042939206\n",
            "Epoch 92:\n",
            "\tMSE= 3630594300.5560536:\n",
            "\tLoss= 40550.07013733184\n",
            "\tR^2 Score= 0.7196164992421274\n",
            "Epoch 93:\n",
            "\tMSE= 3745835577.399103:\n",
            "\tLoss= 41328.45599775785\n",
            "\tR^2 Score= 0.7152733461891678\n",
            "Epoch 94:\n",
            "\tMSE= 3585445959.748879:\n",
            "\tLoss= 40129.201163116595\n",
            "\tR^2 Score= 0.72126058926144\n",
            "Epoch 95:\n",
            "\tMSE= 3703078491.264574:\n",
            "\tLoss= 40895.37352858744\n",
            "\tR^2 Score= 0.7223457835190052\n",
            "Epoch 96:\n",
            "\tMSE= 3595492791.103139:\n",
            "\tLoss= 40391.37690057455\n",
            "\tR^2 Score= 0.7244156255887602\n",
            "Epoch 97:\n",
            "\tMSE= 3576319997.7040358:\n",
            "\tLoss= 40049.0205034333\n",
            "\tR^2 Score= 0.7438287174423475\n",
            "Epoch 98:\n",
            "\tMSE= 3638131658.044843:\n",
            "\tLoss= 40699.60230696468\n",
            "\tR^2 Score= 0.7381869443030336\n",
            "Epoch 99:\n",
            "\tMSE= 3640609274.26009:\n",
            "\tLoss= 40444.978953545404\n",
            "\tR^2 Score= 0.7308570630731563\n",
            "Epoch 100:\n",
            "\tMSE= 3701717016.6816144:\n",
            "\tLoss= 41034.89741276626\n",
            "\tR^2 Score= 0.7242575408127454\n"
          ],
          "name": "stdout"
        }
      ]
    },
    {
      "cell_type": "markdown",
      "metadata": {
        "id": "221YLXnLjVB6",
        "colab_type": "text"
      },
      "source": [
        "Plot L1Loss and R2Score for each Epoch"
      ]
    },
    {
      "cell_type": "code",
      "metadata": {
        "id": "E5Fa2NUumAaX",
        "colab_type": "code",
        "outputId": "24a9e4a0-b0d5-48f1-ab73-ef37220c1b79",
        "colab": {
          "base_uri": "https://localhost:8080/",
          "height": 283
        }
      },
      "source": [
        "fig,(ax1,ax2) =plt.subplots(nrows=2,ncols=1)\n",
        "ax1.plot(epochData,lossData)\n",
        "ax2.plot(epochData,R2ScoreData)"
      ],
      "execution_count": 15,
      "outputs": [
        {
          "output_type": "execute_result",
          "data": {
            "text/plain": [
              "[<matplotlib.lines.Line2D at 0x7fc7806184a8>]"
            ]
          },
          "metadata": {
            "tags": []
          },
          "execution_count": 15
        },
        {
          "output_type": "display_data",
          "data": {
            "image/png": "[encoded data removed]",
            "text/plain": [
              "<Figure size 432x288 with 2 Axes>"
            ]
          },
          "metadata": {
            "tags": []
          }
        }
      ]
    },
    {
      "cell_type": "markdown",
      "metadata": {
        "id": "RyXK1qEejcsE",
        "colab_type": "text"
      },
      "source": [
        "Test the Model"
      ]
    },
    {
      "cell_type": "code",
      "metadata": {
        "id": "qtXtbuRnwcna",
        "colab_type": "code",
        "outputId": "50fbfbd6-ea94-423d-c64b-101db255c1c5",
        "colab": {
          "base_uri": "https://localhost:8080/",
          "height": 72
        }
      },
      "source": [
        "#Convert the tarining set to torch variable for out model using the GPU as floats. The reshape is to remove a warning\n",
        "inputs = torch.from_numpy(x_test_np).cuda().float()\n",
        "outputs = torch.from_numpy(y_test_np.reshape(y_test_np.shape[0], 1)).cuda().float()\n",
        "\n",
        "#Create DataLoader Instance to work with our batches\n",
        "tensor = TensorDataset(inputs, outputs)\n",
        "loader = DataLoader(tensor, batch_size, shuffle = True, drop_last = True)\n",
        "\n",
        "#Ouput the average performance of the model\n",
        "avg_loss, avg_r2_score,avg_meansquareloss = model_loss(model, loader,train=False)\n",
        "print(\"The model's MSE loss is: \" + str(avg_meansquareloss))\n",
        "print(\"The model's L1 loss is: \" + str(avg_loss))\n",
        "print(\"The model's R^2 score is: \" + str(avg_r2_score))\n"
      ],
      "execution_count": 16,
      "outputs": [
        {
          "output_type": "stream",
          "text": [
            "The model's MSE loss is: 3564752723.536842\n",
            "The model's L1 loss is: 40851.467269736844\n",
            "The model's R^2 score is: 0.731382949152275\n"
          ],
          "name": "stdout"
        }
      ]
    },
    {
      "cell_type": "markdown",
      "metadata": {
        "id": "GyX9TiKZ7MSl",
        "colab_type": "text"
      },
      "source": [
        "Save the Model"
      ]
    },
    {
      "cell_type": "code",
      "metadata": {
        "id": "BI7Yy4Ay7Kfh",
        "colab_type": "code",
        "colab": {}
      },
      "source": [
        "#Saving model\n",
        "model_save_name = '0892691_1dconv_reg.pt'\n",
        "path = F\"//content/drive/My Drive/NLP_Assigment_1/0892691_1dconv_reg\" \n",
        "torch.save(model.state_dict(), path)"
      ],
      "execution_count": 0,
      "outputs": []
    }
  ]
}